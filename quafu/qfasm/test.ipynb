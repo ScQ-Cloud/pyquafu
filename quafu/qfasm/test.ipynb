{
 "cells": [
  {
   "cell_type": "code",
   "execution_count": 2,
   "metadata": {},
   "outputs": [
    {
     "ename": "ParserError",
     "evalue": "('Duplicate declaration for u2 at line 3 file qe.inc', 'First occureence at line 3 file qe.inc')",
     "output_type": "error",
     "traceback": [
      "\u001b[1;31m---------------------------------------------------------------------------\u001b[0m",
      "\u001b[1;31mParserError\u001b[0m                               Traceback (most recent call last)",
      "\u001b[1;32mc:\\Users\\AFWZSL\\Desktop\\pyquafu\\quafu\\qfasm\\test.ipynb Cell 1\u001b[0m line \u001b[0;36m2\n\u001b[0;32m      <a href='vscode-notebook-cell:/c%3A/Users/AFWZSL/Desktop/pyquafu/quafu/qfasm/test.ipynb#W0sZmlsZQ%3D%3D?line=0'>1</a>\u001b[0m \u001b[39mfrom\u001b[39;00m \u001b[39mparse\u001b[39;00m \u001b[39mimport\u001b[39;00m parse_str\n\u001b[1;32m----> <a href='vscode-notebook-cell:/c%3A/Users/AFWZSL/Desktop/pyquafu/quafu/qfasm/test.ipynb#W0sZmlsZQ%3D%3D?line=1'>2</a>\u001b[0m qc \u001b[39m=\u001b[39m parse_str(filename\u001b[39m=\u001b[39;49m\u001b[39m'\u001b[39;49m\u001b[39mqasm.qasm\u001b[39;49m\u001b[39m'\u001b[39;49m)\n\u001b[0;32m      <a href='vscode-notebook-cell:/c%3A/Users/AFWZSL/Desktop/pyquafu/quafu/qfasm/test.ipynb#W0sZmlsZQ%3D%3D?line=3'>4</a>\u001b[0m \u001b[39mprint\u001b[39m(qc\u001b[39m.\u001b[39mgates)\n\u001b[0;32m      <a href='vscode-notebook-cell:/c%3A/Users/AFWZSL/Desktop/pyquafu/quafu/qfasm/test.ipynb#W0sZmlsZQ%3D%3D?line=4'>5</a>\u001b[0m \u001b[39m# print(qc.gates[22].qbits, qc.gates[22].cbits)\u001b[39;00m\n",
      "File \u001b[1;32mc:\\Users\\AFWZSL\\Desktop\\pyquafu\\quafu\\qfasm\\parse.py:13\u001b[0m, in \u001b[0;36mparse_str\u001b[1;34m(filename, data)\u001b[0m\n\u001b[0;32m     10\u001b[0m         data \u001b[39m=\u001b[39m ifile\u001b[39m.\u001b[39mread()\n\u001b[0;32m     12\u001b[0m qasm \u001b[39m=\u001b[39m QfasmParser(filename)\n\u001b[1;32m---> 13\u001b[0m \u001b[39mreturn\u001b[39;00m qasm\u001b[39m.\u001b[39;49mparse(data)\n",
      "File \u001b[1;32mc:\\Users\\AFWZSL\\Desktop\\pyquafu\\quafu\\qfasm\\qfasm_parser.py:74\u001b[0m, in \u001b[0;36mQfasmParser.parse\u001b[1;34m(self, data, debug)\u001b[0m\n\u001b[0;32m     73\u001b[0m \u001b[39mdef\u001b[39;00m \u001b[39mparse\u001b[39m(\u001b[39mself\u001b[39m, data, debug\u001b[39m=\u001b[39m\u001b[39mFalse\u001b[39;00m):\n\u001b[1;32m---> 74\u001b[0m     \u001b[39mself\u001b[39;49m\u001b[39m.\u001b[39;49mparser\u001b[39m.\u001b[39;49mparse(data, lexer\u001b[39m=\u001b[39;49m\u001b[39mself\u001b[39;49m\u001b[39m.\u001b[39;49mlexer, debug\u001b[39m=\u001b[39;49mdebug)\n\u001b[0;32m     75\u001b[0m     \u001b[39mif\u001b[39;00m \u001b[39mself\u001b[39m\u001b[39m.\u001b[39mcircuit \u001b[39mis\u001b[39;00m \u001b[39mNone\u001b[39;00m:\n\u001b[0;32m     76\u001b[0m         \u001b[39mraise\u001b[39;00m ParserError(\u001b[39m\"\u001b[39m\u001b[39mException in parser;\u001b[39m\u001b[39m\"\u001b[39m)\n",
      "File \u001b[1;32md:\\anaconda\\envs\\dev\\lib\\site-packages\\ply\\yacc.py:333\u001b[0m, in \u001b[0;36mLRParser.parse\u001b[1;34m(self, input, lexer, debug, tracking, tokenfunc)\u001b[0m\n\u001b[0;32m    331\u001b[0m     \u001b[39mreturn\u001b[39;00m \u001b[39mself\u001b[39m\u001b[39m.\u001b[39mparseopt(\u001b[39minput\u001b[39m, lexer, debug, tracking, tokenfunc)\n\u001b[0;32m    332\u001b[0m \u001b[39melse\u001b[39;00m:\n\u001b[1;32m--> 333\u001b[0m     \u001b[39mreturn\u001b[39;00m \u001b[39mself\u001b[39;49m\u001b[39m.\u001b[39;49mparseopt_notrack(\u001b[39minput\u001b[39;49m, lexer, debug, tracking, tokenfunc)\n",
      "File \u001b[1;32md:\\anaconda\\envs\\dev\\lib\\site-packages\\ply\\yacc.py:1120\u001b[0m, in \u001b[0;36mLRParser.parseopt_notrack\u001b[1;34m(self, input, lexer, debug, tracking, tokenfunc)\u001b[0m\n\u001b[0;32m   1118\u001b[0m \u001b[39mdel\u001b[39;00m symstack[\u001b[39m-\u001b[39mplen:]\n\u001b[0;32m   1119\u001b[0m \u001b[39mself\u001b[39m\u001b[39m.\u001b[39mstate \u001b[39m=\u001b[39m state\n\u001b[1;32m-> 1120\u001b[0m p\u001b[39m.\u001b[39;49mcallable(pslice)\n\u001b[0;32m   1121\u001b[0m \u001b[39mdel\u001b[39;00m statestack[\u001b[39m-\u001b[39mplen:]\n\u001b[0;32m   1122\u001b[0m symstack\u001b[39m.\u001b[39mappend(sym)\n",
      "File \u001b[1;32mc:\\Users\\AFWZSL\\Desktop\\pyquafu\\quafu\\qfasm\\qfasm_parser.py:662\u001b[0m, in \u001b[0;36mQfasmParser.p_statement_gatedecl_args\u001b[1;34m(self, p)\u001b[0m\n\u001b[0;32m    660\u001b[0m newsymtabnode \u001b[39m=\u001b[39m SymtabNode(\u001b[39m'\u001b[39m\u001b[39mGATE\u001b[39m\u001b[39m'\u001b[39m, p[\u001b[39m2\u001b[39m])\n\u001b[0;32m    661\u001b[0m newsymtabnode\u001b[39m.\u001b[39mfill_gate(p[\u001b[39m7\u001b[39m], p[\u001b[39m8\u001b[39m], p[\u001b[39m5\u001b[39m])\n\u001b[1;32m--> 662\u001b[0m \u001b[39mself\u001b[39;49m\u001b[39m.\u001b[39;49mupdateSymtab(newsymtabnode)\n",
      "File \u001b[1;32mc:\\Users\\AFWZSL\\Desktop\\pyquafu\\quafu\\qfasm\\qfasm_parser.py:97\u001b[0m, in \u001b[0;36mQfasmParser.updateSymtab\u001b[1;34m(self, symtabnode)\u001b[0m\n\u001b[0;32m     95\u001b[0m     \u001b[39mif\u001b[39;00m symtabnode\u001b[39m.\u001b[39mname \u001b[39min\u001b[39;00m global_symtab:\n\u001b[0;32m     96\u001b[0m         hasnode \u001b[39m=\u001b[39m global_symtab[symtabnode\u001b[39m.\u001b[39mname]\n\u001b[1;32m---> 97\u001b[0m         \u001b[39mraise\u001b[39;00m ParserError(\u001b[39mf\u001b[39m\u001b[39m\"\u001b[39m\u001b[39mDuplicate declaration for \u001b[39m\u001b[39m{\u001b[39;00msymtabnode\u001b[39m.\u001b[39mname\u001b[39m}\u001b[39;00m\u001b[39m at line \u001b[39m\u001b[39m{\u001b[39;00msymtabnode\u001b[39m.\u001b[39mlineno\u001b[39m}\u001b[39;00m\u001b[39m file \u001b[39m\u001b[39m{\u001b[39;00msymtabnode\u001b[39m.\u001b[39mfilename\u001b[39m}\u001b[39;00m\u001b[39m\"\u001b[39m,\n\u001b[0;32m     98\u001b[0m                           \u001b[39mf\u001b[39m\u001b[39m\"\u001b[39m\u001b[39mFirst occureence at line \u001b[39m\u001b[39m{\u001b[39;00mhasnode\u001b[39m.\u001b[39mlineno\u001b[39m}\u001b[39;00m\u001b[39m file \u001b[39m\u001b[39m{\u001b[39;00mhasnode\u001b[39m.\u001b[39mfilename\u001b[39m}\u001b[39;00m\u001b[39m\"\u001b[39m)\n\u001b[0;32m     99\u001b[0m \u001b[39melse\u001b[39;00m:\n\u001b[0;32m    100\u001b[0m     \u001b[39m# just for arg and qarg in gate declaration, so it can duplicate\u001b[39;00m\n\u001b[0;32m    101\u001b[0m     \u001b[39mif\u001b[39;00m symtabnode\u001b[39m.\u001b[39mname \u001b[39min\u001b[39;00m symtab:\n",
      "\u001b[1;31mParserError\u001b[0m: ('Duplicate declaration for u2 at line 3 file qe.inc', 'First occureence at line 3 file qe.inc')"
     ]
    }
   ],
   "source": [
    "from parse import parse_str\n",
    "qc = parse_str(filename='qasm.qasm')\n",
    "\n",
    "print(qc.gates)\n",
    "# print(qc.gates[22].qbits, qc.gates[22].cbits)\n",
    "print(qc.measures)\n",
    "# for qreg in qc.qregs:\n",
    "    # print(qreg, qreg.name, qreg.qubits)\n",
    "print(qc.executable_on_backend)\n",
    "print(qc.gates[-6])\n",
    "print(qc.gates[-5])\n",
    "print(qc.gates[-4])\n",
    "print(qc.gates[-3])\n",
    "print(qc.gates[-2])\n",
    "print(qc.gates[-1])\n",
    "# print(qc.gates[-1].cbit, qc.gates[-1].cond, qc.gates[-1].instructions)\n",
    "qc.plot_circuit()"
   ]
  }
 ],
 "metadata": {
  "kernelspec": {
   "display_name": "dev",
   "language": "python",
   "name": "python3"
  },
  "language_info": {
   "codemirror_mode": {
    "name": "ipython",
    "version": 3
   },
   "file_extension": ".py",
   "mimetype": "text/x-python",
   "name": "python",
   "nbconvert_exporter": "python",
   "pygments_lexer": "ipython3",
   "version": "3.8.16"
  },
  "orig_nbformat": 4
 },
 "nbformat": 4,
 "nbformat_minor": 2
}
