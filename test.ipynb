{
 "cells": [
  {
   "cell_type": "code",
   "execution_count": 17,
   "metadata": {},
   "outputs": [
    {
     "name": "stdout",
     "output_type": "stream",
     "text": [
      "Error near line1, Column 20\n"
     ]
    },
    {
     "ename": "ParserError",
     "evalue": "Expecting an ID, received ;",
     "output_type": "error",
     "traceback": [
      "\u001b[1;31m---------------------------------------------------------------------------\u001b[0m",
      "\u001b[1;31mParserError\u001b[0m                               Traceback (most recent call last)",
      "\u001b[1;32mc:\\Users\\AFWZSL\\Desktop\\pyquafu\\test.ipynb Cell 1\u001b[0m line \u001b[0;36m3\n\u001b[0;32m      <a href='vscode-notebook-cell:/c%3A/Users/AFWZSL/Desktop/pyquafu/test.ipynb#W0sZmlsZQ%3D%3D?line=0'>1</a>\u001b[0m \u001b[39mfrom\u001b[39;00m \u001b[39mquafu\u001b[39;00m\u001b[39m.\u001b[39;00m\u001b[39mqfasm\u001b[39;00m\u001b[39m.\u001b[39;00m\u001b[39mqfasm_convertor\u001b[39;00m \u001b[39mimport\u001b[39;00m qasm_to_quafu\n\u001b[1;32m----> <a href='vscode-notebook-cell:/c%3A/Users/AFWZSL/Desktop/pyquafu/test.ipynb#W0sZmlsZQ%3D%3D?line=2'>3</a>\u001b[0m qc \u001b[39m=\u001b[39m qasm_to_quafu(openqasm\u001b[39m=\u001b[39;49m\u001b[39m\"\u001b[39;49m\u001b[39mqreg q[1]; cx q[0],;\u001b[39;49m\u001b[39m\"\u001b[39;49m)\n\u001b[0;32m      <a href='vscode-notebook-cell:/c%3A/Users/AFWZSL/Desktop/pyquafu/test.ipynb#W0sZmlsZQ%3D%3D?line=3'>4</a>\u001b[0m \u001b[39mprint\u001b[39m(\u001b[39mtype\u001b[39m(qc))\n\u001b[0;32m      <a href='vscode-notebook-cell:/c%3A/Users/AFWZSL/Desktop/pyquafu/test.ipynb#W0sZmlsZQ%3D%3D?line=4'>5</a>\u001b[0m \u001b[39mprint\u001b[39m(qc\u001b[39m.\u001b[39mgates)\n",
      "File \u001b[1;32mc:\\Users\\AFWZSL\\Desktop\\pyquafu\\quafu\\qfasm\\qfasm_convertor.py:20\u001b[0m, in \u001b[0;36mqasm_to_quafu\u001b[1;34m(openqasm, filepath)\u001b[0m\n\u001b[0;32m     18\u001b[0m         openqasm \u001b[39m=\u001b[39m ifile\u001b[39m.\u001b[39mread()\n\u001b[0;32m     19\u001b[0m qparser \u001b[39m=\u001b[39m QfasmParser(filepath)\n\u001b[1;32m---> 20\u001b[0m qc \u001b[39m=\u001b[39m qparser\u001b[39m.\u001b[39;49mparse(openqasm)\n\u001b[0;32m     21\u001b[0m qc\u001b[39m.\u001b[39mopenqasm \u001b[39m=\u001b[39m openqasm\n\u001b[0;32m     22\u001b[0m \u001b[39mif\u001b[39;00m \u001b[39mnot\u001b[39;00m qc\u001b[39m.\u001b[39mexecutable_on_backend:\n",
      "File \u001b[1;32mc:\\Users\\AFWZSL\\Desktop\\pyquafu\\quafu\\qfasm\\qfasm_parser.py:75\u001b[0m, in \u001b[0;36mQfasmParser.parse\u001b[1;34m(self, data, debug)\u001b[0m\n\u001b[0;32m     74\u001b[0m \u001b[39mdef\u001b[39;00m \u001b[39mparse\u001b[39m(\u001b[39mself\u001b[39m, data, debug\u001b[39m=\u001b[39m\u001b[39mFalse\u001b[39;00m):\n\u001b[1;32m---> 75\u001b[0m     \u001b[39mself\u001b[39;49m\u001b[39m.\u001b[39;49mparser\u001b[39m.\u001b[39;49mparse(data, lexer\u001b[39m=\u001b[39;49m\u001b[39mself\u001b[39;49m\u001b[39m.\u001b[39;49mlexer, debug\u001b[39m=\u001b[39;49mdebug)\n\u001b[0;32m     76\u001b[0m     \u001b[39mif\u001b[39;00m \u001b[39mself\u001b[39m\u001b[39m.\u001b[39mcircuit \u001b[39mis\u001b[39;00m \u001b[39mNone\u001b[39;00m:\n\u001b[0;32m     77\u001b[0m         \u001b[39mraise\u001b[39;00m ParserError(\u001b[39m\"\u001b[39m\u001b[39mException in parser;\u001b[39m\u001b[39m\"\u001b[39m)\n",
      "File \u001b[1;32md:\\anaconda\\envs\\p39\\lib\\site-packages\\ply-3.11-py3.9.egg\\ply\\yacc.py:333\u001b[0m, in \u001b[0;36mLRParser.parse\u001b[1;34m(self, input, lexer, debug, tracking, tokenfunc)\u001b[0m\n\u001b[0;32m    331\u001b[0m     \u001b[39mreturn\u001b[39;00m \u001b[39mself\u001b[39m\u001b[39m.\u001b[39mparseopt(\u001b[39minput\u001b[39m, lexer, debug, tracking, tokenfunc)\n\u001b[0;32m    332\u001b[0m \u001b[39melse\u001b[39;00m:\n\u001b[1;32m--> 333\u001b[0m     \u001b[39mreturn\u001b[39;00m \u001b[39mself\u001b[39;49m\u001b[39m.\u001b[39;49mparseopt_notrack(\u001b[39minput\u001b[39;49m, lexer, debug, tracking, tokenfunc)\n",
      "File \u001b[1;32md:\\anaconda\\envs\\p39\\lib\\site-packages\\ply-3.11-py3.9.egg\\ply\\yacc.py:1120\u001b[0m, in \u001b[0;36mLRParser.parseopt_notrack\u001b[1;34m(self, input, lexer, debug, tracking, tokenfunc)\u001b[0m\n\u001b[0;32m   1118\u001b[0m \u001b[39mdel\u001b[39;00m symstack[\u001b[39m-\u001b[39mplen:]\n\u001b[0;32m   1119\u001b[0m \u001b[39mself\u001b[39m\u001b[39m.\u001b[39mstate \u001b[39m=\u001b[39m state\n\u001b[1;32m-> 1120\u001b[0m p\u001b[39m.\u001b[39;49mcallable(pslice)\n\u001b[0;32m   1121\u001b[0m \u001b[39mdel\u001b[39;00m statestack[\u001b[39m-\u001b[39mplen:]\n\u001b[0;32m   1122\u001b[0m symstack\u001b[39m.\u001b[39mappend(sym)\n",
      "File \u001b[1;32mc:\\Users\\AFWZSL\\Desktop\\pyquafu\\quafu\\qfasm\\qfasm_parser.py:798\u001b[0m, in \u001b[0;36mQfasmParser.p_id\u001b[1;34m(self, p)\u001b[0m\n\u001b[0;32m    796\u001b[0m \u001b[39m# It's instance of Id class, passed from t.value\u001b[39;00m\n\u001b[0;32m    797\u001b[0m \u001b[39mif\u001b[39;00m \u001b[39mnot\u001b[39;00m \u001b[39misinstance\u001b[39m(p[\u001b[39m1\u001b[39m], Id):\n\u001b[1;32m--> 798\u001b[0m     \u001b[39mraise\u001b[39;00m ParserError(\u001b[39mf\u001b[39m\u001b[39m\"\u001b[39m\u001b[39mExpecting an ID, received \u001b[39m\u001b[39m{\u001b[39;00m\u001b[39mstr\u001b[39m(p[\u001b[39m1\u001b[39m]\u001b[39m.\u001b[39mvalue)\u001b[39m}\u001b[39;00m\u001b[39m\"\u001b[39m)\n\u001b[0;32m    799\u001b[0m p[\u001b[39m0\u001b[39m] \u001b[39m=\u001b[39m p[\u001b[39m1\u001b[39m]\n",
      "\u001b[1;31mParserError\u001b[0m: Expecting an ID, received ;"
     ]
    }
   ],
   "source": [
    "from quafu.qfasm.qfasm_convertor import qasm_to_quafu\n",
    "\n",
    "qc = qasm_to_quafu(openqasm=\"qreg q[2]; barrier q[0], q[1],;\")\n",
    "print(type(qc))\n",
    "print(qc.gates)\n",
    "# print(qc.gates[22].qbits, qc.gates[22].cbits)\n",
    "print(qc.measures)\n",
    "for qreg in qc.qregs:\n",
    "    print(qreg, qreg.name, qreg.qubits)\n",
    "print(qc.executable_on_backend)\n",
    "# print(qc.gates[-1].cbit, qc.gates[-1].cond, qc.gates[-1].instructions)\n",
    "qc.plot_circuit()\n",
    "qc.to_openqasm()"
   ]
  },
  {
   "cell_type": "code",
   "execution_count": 28,
   "metadata": {},
   "outputs": [
    {
     "name": "stdout",
     "output_type": "stream",
     "text": [
      "<re.Match object; span=(0, 63), match='\"C:\\\\Users\\\\AFWZSL\\\\Desktop\\\\pyquafu\\\\tests\\\\quaf>\n",
      "<re.Match object; span=(0, 14), match='\"include.qasm\"'>\n",
      "None\n",
      "<re.Match object; span=(0, 60), match='\"C:\\\\Users\\\\AFWZSL\\\\Desktop\\\\pyquafu\\\\tests\\\\quaf>\n"
     ]
    }
   ],
   "source": [
    "import re\n",
    "ma = re.match(r'^\"((?:[a-zA-Z]:\\\\(?:[^\\\\/:*?\"<>|\\r\\n]+\\\\)*[^\\\\/:*?\"<>|\\r\\n]*)|(?:[^\\\\/:*?\"<>|\\r\\n]+\\\\)*[^\\\\/:*?\"<>|\\r\\n]*)\"$', '\"C:\\\\Users\\\\AFWZSL\\\\Desktop\\\\pyquafu\\\\tests\\\\quafu\\\\qasm\\\\include.qasm\"')\n",
    "print(ma)\n",
    "mb = re.match(r'^\"((?:[a-zA-Z]:\\\\(?:[^\\\\/:*?\"<>|\\r\\n]+\\\\)*[^\\\\/:*?\"<>|\\r\\n]*)|(?:[^\\\\/:*?\"<>|\\r\\n]+\\\\)*[^\\\\/:*?\"<>|\\r\\n]*)\"$', '\"include.qasm\"')\n",
    "print(mb)\n",
    "mc = re.match(r'^\"((?:[a-zA-Z]:\\\\(?:[^\\\\/:*?\"<>|\\r\\n]+\\\\)*[^\\\\/:*?\"<>|\\r\\n]*)|(?:[^\\\\/:*?\"<>|\\r\\n]+\\\\)*[^\\\\/:*?\"<>|\\r\\n]*)\"$', '\"/openqasm/include.qasm\"')\n",
    "print(mc)\n",
    "mm = re.match(r'\"([^\\\\\\\"]|\\\\.)*\"', '\"C:\\\\Users\\\\AFWZSL\\\\Desktop\\\\pyquafu\\\\tests\\\\quafu\\\\qasm\\\\qasm.qasm\"')\n",
    "print(mm)\n",
    "\n"
   ]
  },
  {
   "cell_type": "code",
   "execution_count": null,
   "metadata": {},
   "outputs": [],
   "source": [
    "from quafu import User\n",
    "user = User(\"UwtBjW9xTKyDtgWn4ZMF-RsiexSwpUr07aK4HpoYWyC.9BTM0MTN3QTO2EjOiAHelJCLzEDN6ICZpJye.9JiN1IzUIJiOicGbhJCLiQ1VKJiOiAXe0Jye\")\n",
    "user.save_apitoken()\n"
   ]
  },
  {
   "cell_type": "code",
   "execution_count": null,
   "metadata": {},
   "outputs": [],
   "source": [
    "from quafu import Task\n",
    "task = Task()\n",
    "task.config(backend='ScQ-P18')\n",
    "res = task.send(qc=qc, wait=True)\n",
    "res.counts"
   ]
  },
  {
   "cell_type": "code",
   "execution_count": 9,
   "metadata": {},
   "outputs": [
    {
     "name": "stdout",
     "output_type": "stream",
     "text": [
      "1.5574077246549023\n",
      "nan\n",
      "nan\n"
     ]
    },
    {
     "name": "stderr",
     "output_type": "stream",
     "text": [
      "C:\\Users\\AFWZSL\\AppData\\Local\\Temp\\ipykernel_14312\\1955555523.py:5: RuntimeWarning: invalid value encountered in log\n",
      "  print(log(-1))\n",
      "C:\\Users\\AFWZSL\\AppData\\Local\\Temp\\ipykernel_14312\\1955555523.py:6: RuntimeWarning: invalid value encountered in sqrt\n",
      "  print(sqrt(-1))\n"
     ]
    }
   ],
   "source": [
    "from numpy import tan, log, sqrt\n",
    "\n",
    "\n",
    "print(tan(1))\n",
    "print(log(-1))\n",
    "print(sqrt(-1))"
   ]
  }
 ],
 "metadata": {
  "kernelspec": {
   "display_name": "dev",
   "language": "python",
   "name": "python3"
  },
  "language_info": {
   "codemirror_mode": {
    "name": "ipython",
    "version": 3
   },
   "file_extension": ".py",
   "mimetype": "text/x-python",
   "name": "python",
   "nbconvert_exporter": "python",
   "pygments_lexer": "ipython3",
   "version": "3.9.12"
  },
  "orig_nbformat": 4
 },
 "nbformat": 4,
 "nbformat_minor": 2
}
