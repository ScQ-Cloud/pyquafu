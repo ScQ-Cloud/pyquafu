{
 "cells": [
  {
   "cell_type": "markdown",
   "metadata": {},
   "source": [
    "# ScQKit document\n",
    "\n",
    "## 1. Getting started\n",
    "\n",
    "Initialize a circuit with 5 qubits "
   ]
  },
  {
   "cell_type": "code",
   "execution_count": 1,
   "metadata": {},
   "outputs": [],
   "source": [
    "import numpy as np\n",
    "from quantum_circuit import QuantumCircuit\n",
    "\n",
    "q = QuantumCircuit(4)"
   ]
  },
  {
   "cell_type": "markdown",
   "metadata": {},
   "source": [
    "Add quantum gates, currently ScQKit supports gates x, y, z, h, rx, ry, rz, cnot, cz, swap."
   ]
  },
  {
   "cell_type": "code",
   "execution_count": 2,
   "metadata": {},
   "outputs": [],
   "source": [
    "q.x(0)\n",
    "q.x(1) \n",
    "q.cnot(2, 1) \n",
    "q.ry(1, np.pi/2) \n",
    "q.rx(2, np.pi) \n",
    "q.rz(3, 0.1) \n",
    "q.cz(2, 3) "
   ]
  },
  {
   "cell_type": "markdown",
   "metadata": {},
   "source": [
    "Add measurement information including qubits measured (measures), single shot number (shots) and classical bits keeping the measured results (cbits). If there is no measurement information provided, all qubits are measured by default.  "
   ]
  },
  {
   "cell_type": "code",
   "execution_count": 3,
   "metadata": {},
   "outputs": [],
   "source": [
    "measures = [0, 1, 2, 3]\n",
    "shots = 1000\n",
    "cbits = [0, 1, 2, 3]\n",
    "q.measure(measures, shots, cbits=cbits)"
   ]
  },
  {
   "cell_type": "markdown",
   "metadata": {},
   "source": [
    "You can draw the circuit using the draw_circuit() method"
   ]
  },
  {
   "cell_type": "code",
   "execution_count": 4,
   "metadata": {},
   "outputs": [
    {
     "name": "stdout",
     "output_type": "stream",
     "text": [
      "0 -----X-------------------------- M->c[0]\n",
      "                                  \n",
      "1 -----X-------+---Ry(1.571)------ M->c[1]\n",
      "               |                  \n",
      "2 -------------*---Rx(3.142)---*-- M->c[2]\n",
      "                               Cz \n",
      "3 -Rz(0.100)-------------------+-- M->c[3]\n"
     ]
    }
   ],
   "source": [
    "q.draw_circuit()"
   ]
  },
  {
   "cell_type": "markdown",
   "metadata": {},
   "source": [
    "Set experiment backend and send the quantum circuit. The default backend is \"ScQ-P10\"."
   ]
  },
  {
   "cell_type": "code",
   "execution_count": 5,
   "metadata": {},
   "outputs": [],
   "source": [
    "q.set_backend(\"ScQ-P10\")\n",
    "res = q.send()"
   ]
  },
  {
   "cell_type": "markdown",
   "metadata": {},
   "source": [
    "You can use the returned results to check the count and amplitude on each measured bit string. The output bits are arranged as 0, 1, 2,... from left to the right."
   ]
  },
  {
   "cell_type": "code",
   "execution_count": 6,
   "metadata": {},
   "outputs": [
    {
     "name": "stdout",
     "output_type": "stream",
     "text": [
      "{'0010': 10, '0111': 6, '1000': 16, '1010': 484, '1100': 9, '1101': 1, '1110': 473, '1111': 1}\n",
      "{'0010': 0.01, '0111': 0.006, '1000': 0.016, '1010': 0.484, '1100': 0.009, '1101': 0.001, '1110': 0.473, '1111': 0.001}\n"
     ]
    },
    {
     "data": {
      "image/png": "[encoded data removed]",
      "text/plain": [
       "<Figure size 432x288 with 1 Axes>"
      ]
     },
     "metadata": {
      "needs_background": "light"
     },
     "output_type": "display_data"
    }
   ],
   "source": [
    "print(res.res) #counts\n",
    "print(res.amplitudes) #amplitude\n",
    "res.plot_amplitudes()"
   ]
  },
  {
   "cell_type": "markdown",
   "metadata": {},
   "source": [
    "## 2. Execute openqasm directly\n",
    "ScQkit provides from_openqasm() function for initializing quantum circuit directly from openqasm."
   ]
  },
  {
   "cell_type": "code",
   "execution_count": 7,
   "metadata": {},
   "outputs": [
    {
     "name": "stdout",
     "output_type": "stream",
     "text": [
      "0 -H---*----*----*-- M->c[0]\n",
      "       |    |    |  \n",
      "1 -----+----|----|-- M->c[1]\n",
      "            |    |  \n",
      "2 ----------+----|-- M->c[2]\n",
      "                 |  \n",
      "3 ---------------+-- M->c[3]\n"
     ]
    },
    {
     "data": {
      "image/png": "[encoded data removed]",
      "text/plain": [
       "<Figure size 432x288 with 1 Axes>"
      ]
     },
     "metadata": {
      "needs_background": "light"
     },
     "output_type": "display_data"
    }
   ],
   "source": [
    "q = QuantumCircuit(4)\n",
    "test_ghz = \"\"\"OPENQASM 2.0;\n",
    "include \"qelib1.inc\";\n",
    "qreg q[4];\n",
    "h q[0];\n",
    "cx q[0],q[1];\n",
    "cx q[0],q[2];\n",
    "cx q[0],q[3];\n",
    "\"\"\"\n",
    "q.from_openqasm(test_ghz)\n",
    "q.draw_circuit()\n",
    "res = q.send()\n",
    "res.plot_amplitudes()"
   ]
  },
  {
   "cell_type": "markdown",
   "metadata": {},
   "source": [
    "## 3. Execute circuit and measure observables\n",
    "\n",
    "ScQkit provides measuring observables with an excuted quantum circuit. You can input Pauli operators that need to expectation values to the submit_task() function.\n",
    "For example, you can input [[\"XYX\", [0, 1, 2]], [\"Z\", [1]]] to calcuate the expectation of operators $\\sigma^x_0\\sigma^y_1\\sigma^x_2$ and $\\sigma^z_1$.\n",
    "The submit_task() function will minimize the executing times of the circuit with different measurement basis that can calculate all expectations of input operators. \n",
    "\n",
    "Here we show how to measure the energy expection of the Ising chain\n",
    "$$H=\\sum_i \\sigma^z_i \\sigma^z_{i+1} + g \\sum_i \\sigma^x_i.$$\n",
    "\n",
    "First we initialize a circuit with three Hadamard gate"
   ]
  },
  {
   "cell_type": "code",
   "execution_count": 4,
   "metadata": {},
   "outputs": [
    {
     "name": "stdout",
     "output_type": "stream",
     "text": [
      "0 -H- M->c[0]\n",
      "     \n",
      "1 --- M->c[1]\n",
      "     \n",
      "2 -H- M->c[2]\n",
      "     \n",
      "3 --- M->c[3]\n",
      "     \n",
      "4 -H- M->c[4]\n"
     ]
    }
   ],
   "source": [
    "q = QuantumCircuit(5)\n",
    "\n",
    "for i in range(5):\n",
    "    if i % 2 == 0:\n",
    "        q.h(i)\n",
    "\n",
    "q.draw_circuit()\n",
    "measures = list(range(5))\n",
    "q.measure(measures, 2000)\n"
   ]
  },
  {
   "cell_type": "markdown",
   "metadata": {},
   "source": [
    "Next we set operators that need to be measured to calculate the energy expectation, and submit the circuit using submit_task()"
   ]
  },
  {
   "cell_type": "code",
   "execution_count": 3,
   "metadata": {},
   "outputs": [
    {
     "name": "stdout",
     "output_type": "stream",
     "text": [
      "Job start, need measured in  [['XXXXX', [0, 1, 2, 3, 4]], ['ZZZZZ', [0, 1, 2, 3, 4]]]\n"
     ]
    }
   ],
   "source": [
    "test_Ising = [[\"X\", [i]] for i in range(5)]\n",
    "test_Ising.extend([[\"ZZ\", [i, i+1]] for i in range(4)])\n",
    "res, obsexp = q.submit_task(test_Ising)"
   ]
  },
  {
   "cell_type": "markdown",
   "metadata": {},
   "source": [
    "The function return measurement results and operator expectations. The measurement results only contain two ExecResult object since the circuit is only executed twice, with measurement basis  [['XXXXX', [0, 1, 2, 3, 4]] and ['ZZZZZ', [0, 1, 2, 3, 4]]] respectively."
   ]
  },
  {
   "cell_type": "code",
   "execution_count": 4,
   "metadata": {},
   "outputs": [
    {
     "data": {
      "image/png": "[encoded data removed]",
      "text/plain": [
       "<Figure size 432x288 with 1 Axes>"
      ]
     },
     "metadata": {
      "needs_background": "light"
     },
     "output_type": "display_data"
    },
    {
     "data": {
      "image/png": "[encoded data removed]",
      "text/plain": [
       "<Figure size 432x288 with 1 Axes>"
      ]
     },
     "metadata": {
      "needs_background": "light"
     },
     "output_type": "display_data"
    }
   ],
   "source": [
    "\n",
    "res[0].plot_amplitudes()\n",
    "res[1].plot_amplitudes()\n"
   ]
  },
  {
   "cell_type": "markdown",
   "metadata": {},
   "source": [
    "The return operator expectations (obsexp) is a list with a length equal to the input operator number. We can use it to calculate the energy expectation "
   ]
  },
  {
   "cell_type": "code",
   "execution_count": 5,
   "metadata": {},
   "outputs": [
    {
     "name": "stdout",
     "output_type": "stream",
     "text": [
      "[0.9890000000000001, 0.010999999999999954, 0.9910000000000001, 0.016000000000000014, 0.9950000000000001, 0.05400000000000005, 0.04899999999999999, 0.02100000000000002, 0.019999999999999962]\n",
      "1.645\n"
     ]
    }
   ],
   "source": [
    "print(obsexp)\n",
    "g = 0.5\n",
    "E = g*sum(obsexp[:5])+sum(obsexp[5:])\n",
    "print(E)\n"
   ]
  }
 ],
 "metadata": {
  "kernelspec": {
   "display_name": "Python 3 (ipykernel)",
   "language": "python",
   "name": "python3"
  },
  "language_info": {
   "codemirror_mode": {
    "name": "ipython",
    "version": 3
   },
   "file_extension": ".py",
   "mimetype": "text/x-python",
   "name": "python",
   "nbconvert_exporter": "python",
   "pygments_lexer": "ipython3",
   "version": "3.7.11"
  },
  "vscode": {
   "interpreter": {
    "hash": "080ff656d25cceb756b153ec5f075ff089ffff00a8404a8c4432f2f1064df8e3"
   }
  }
 },
 "nbformat": 4,
 "nbformat_minor": 2
}
